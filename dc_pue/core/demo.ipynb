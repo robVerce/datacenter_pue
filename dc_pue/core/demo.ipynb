{
 "cells": [
  {
   "cell_type": "code",
   "execution_count": null,
   "metadata": {},
   "outputs": [],
   "source": [
    "# Step 1: import the PUE& WUE calculator (corresponding to cooling system of interest) from the \"simulation_funs_DC.py\" file\n",
    "\n",
    "#### e.g. PUE& WUE calulator for Colo data centers using waterside economizer\n",
    "# you can always import PUE& WUE calulator of your own interst (e.g., PUE_WUE_AE_Chiller). Please refer to the \"simulation_funs_DC.py\" and our paper\n",
    "# you can also contact me for help\n",
    "\n",
    "from simulation_funs_DC import PUE_WUE_WE_Chiller_Colo"
   ]
  },
  {
   "cell_type": "code",
   "execution_count": 8,
   "metadata": {},
   "outputs": [],
   "source": [
    "# Step 2: specify user inputs for the PUE& WUE calulator: \n",
    "# you can refer to Table B.1 in our RCR paper, or comments in \"simulation_funs_DC.py\"\n",
    "# you can also specify your customerized inputs\n",
    "x = [ 9,  10, 101325,  8.94746094e-01,\n",
    "        2.84082031e-02,  4.72167969e-02,  9.51835937e-01,  9.49707031e+00,\n",
    "        6.50488281e+02,  6.13867188e-01,  6.41894531e+06,  6.50976563e-01,\n",
    "        6.90283203e-01,  6.91894531e+00,  3.35986328e+00,  2.10712891e+00,\n",
    "        1.56284191e+05,  6.68945312e-01,  1.71884552e+05,  7.45117188e-01,\n",
    "        3.08984375e-01,  5.09960938e+00,  2.46235102e+05,  7.08007812e-01,\n",
    "        2.93588867e-03,  1.11650391e+01,  2.72070313e-01,  3.95898438e+02,\n",
    "        6.11914063e-01,  2.87041016e+01,  1.54423828e+01,  1.67460938e+01,\n",
    "       -1.11123047e+01,  7.18554688e+01,  2.60351562e+01, -9.17968750e-02]"
   ]
  },
  {
   "cell_type": "code",
   "execution_count": 9,
   "metadata": {},
   "outputs": [
    {
     "name": "stdout",
     "output_type": "stream",
     "text": [
      "(np.float64(1.3392549137326355), np.float64(2.417390377483526))\n"
     ]
    }
   ],
   "source": [
    "# Step 3: call the function to get PUE and WUE values\n",
    "\n",
    "print(PUE_WUE_WE_Chiller_Colo(x))"
   ]
  },
  {
   "cell_type": "code",
   "execution_count": null,
   "metadata": {},
   "outputs": [],
   "source": []
  }
 ],
 "metadata": {
  "kernelspec": {
   "display_name": "env",
   "language": "python",
   "name": "python3"
  },
  "language_info": {
   "codemirror_mode": {
    "name": "ipython",
    "version": 3
   },
   "file_extension": ".py",
   "mimetype": "text/x-python",
   "name": "python",
   "nbconvert_exporter": "python",
   "pygments_lexer": "ipython3",
   "version": "3.12.0"
  },
  "orig_nbformat": 4
 },
 "nbformat": 4,
 "nbformat_minor": 2
}
